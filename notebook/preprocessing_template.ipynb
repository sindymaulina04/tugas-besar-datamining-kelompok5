{
  "cells": [
    {
      "cell_type": "markdown",
      "metadata": {},
      "source": [
        "# 🧹 Preprocessing Template\n",
        "Notebook ini digunakan untuk preprocessing data sebelum pemodelan.\n",
        "\n",
        "## Langkah yang disarankan:\n",
        "- Load dataset\n",
        "- Cek dan tangani missing value\n",
        "- Encode variabel kategorikal\n",
        "- Normalisasi atau standarisasi\n",
        "- Simpan dataset bersih ke file baru (opsional)"
      ]
    },
    {
      "cell_type": "code",
      "execution_count": 3,
      "metadata": {},
      "outputs": [
        {
          "name": "stdout",
          "output_type": "stream",
          "text": [
            "  InvoiceNo StockCode                          Description  Quantity  \\\n",
            "0    536365    85123A   WHITE HANGING HEART T-LIGHT HOLDER         6   \n",
            "1    536365     71053                  WHITE METAL LANTERN         6   \n",
            "2    536365    84406B       CREAM CUPID HEARTS COAT HANGER         8   \n",
            "3    536365    84029G  KNITTED UNION FLAG HOT WATER BOTTLE         6   \n",
            "4    536365    84029E       RED WOOLLY HOTTIE WHITE HEART.         6   \n",
            "5    536365     22752         SET 7 BABUSHKA NESTING BOXES         2   \n",
            "6    536365     21730    GLASS STAR FROSTED T-LIGHT HOLDER         6   \n",
            "7    536366     22633               HAND WARMER UNION JACK         6   \n",
            "8    536366     22632            HAND WARMER RED POLKA DOT         6   \n",
            "9    536367     84879        ASSORTED COLOUR BIRD ORNAMENT        32   \n",
            "\n",
            "          InvoiceDate  UnitPrice  CustomerID         Country  \n",
            "0 2010-12-01 08:26:00       2.55     17850.0  United Kingdom  \n",
            "1 2010-12-01 08:26:00       3.39     17850.0  United Kingdom  \n",
            "2 2010-12-01 08:26:00       2.75     17850.0  United Kingdom  \n",
            "3 2010-12-01 08:26:00       3.39     17850.0  United Kingdom  \n",
            "4 2010-12-01 08:26:00       3.39     17850.0  United Kingdom  \n",
            "5 2010-12-01 08:26:00       7.65     17850.0  United Kingdom  \n",
            "6 2010-12-01 08:26:00       4.25     17850.0  United Kingdom  \n",
            "7 2010-12-01 08:28:00       1.85     17850.0  United Kingdom  \n",
            "8 2010-12-01 08:28:00       1.85     17850.0  United Kingdom  \n",
            "9 2010-12-01 08:34:00       1.69     13047.0  United Kingdom  \n"
          ]
        }
      ],
      "source": [
        "# Contoh import\n",
        "import pandas as pd\n",
        "import matplotlib.pyplot as plt\n",
        "from mlxtend.preprocessing import TransactionEncoder\n",
        "from mlxtend.frequent_patterns import apriori, association_rules, fpgrowth\n",
        "import pandas as pd\n",
        "\n",
        "# Gunakan path relatif aman\n",
        "df = pd.read_excel('../data/raw/Online Retail.xlsx')\n",
        "\n",
        "print(df.head(10))\n",
        "\n",
        "\n"
      ]
    },
    {
      "cell_type": "code",
      "execution_count": 4,
      "id": "21cd586c",
      "metadata": {},
      "outputs": [],
      "source": [
        "# ===== PREPROCESSING =====\n",
        "# Hapus missing & duplikat\n",
        "df = df.dropna(subset=['CustomerID', 'Description'])\n",
        "df = df.drop_duplicates()"
      ]
    },
    {
      "cell_type": "code",
      "execution_count": 5,
      "id": "df06b3e5",
      "metadata": {},
      "outputs": [],
      "source": [
        "# Kelompokkan produk per Invoice\n",
        "transactions = df.groupby('InvoiceNo')['Description'].apply(list).tolist()\n"
      ]
    },
    {
      "cell_type": "code",
      "execution_count": 6,
      "id": "7dfabb4f",
      "metadata": {},
      "outputs": [],
      "source": [
        "# One-Hot Encoding\n",
        "te = TransactionEncoder()\n",
        "te_ary = te.fit(transactions).transform(transactions)\n",
        "df_encoded = pd.DataFrame(te_ary, columns=te.columns_)"
      ]
    },
    {
      "cell_type": "code",
      "execution_count": 7,
      "id": "c9b664bb",
      "metadata": {},
      "outputs": [
        {
          "name": "stdout",
          "output_type": "stream",
          "text": [
            "Contoh encoding:\n",
            "    4 PURPLE FLOCK DINNER CANDLES   50'S CHRISTMAS GIFT BAG LARGE  \\\n",
            "0                           False                           False   \n",
            "1                           False                           False   \n",
            "2                           False                           False   \n",
            "3                           False                           False   \n",
            "4                           False                           False   \n",
            "\n",
            "    DOLLY GIRL BEAKER   I LOVE LONDON MINI BACKPACK  \\\n",
            "0               False                         False   \n",
            "1               False                         False   \n",
            "2               False                         False   \n",
            "3               False                         False   \n",
            "4               False                         False   \n",
            "\n",
            "    I LOVE LONDON MINI RUCKSACK   NINE DRAWER OFFICE TIDY  \\\n",
            "0                         False                     False   \n",
            "1                         False                     False   \n",
            "2                         False                     False   \n",
            "3                         False                     False   \n",
            "4                         False                     False   \n",
            "\n",
            "    OVAL WALL MIRROR DIAMANTE    RED SPOT GIFT BAG LARGE  \\\n",
            "0                        False                     False   \n",
            "1                        False                     False   \n",
            "2                        False                     False   \n",
            "3                        False                     False   \n",
            "4                        False                     False   \n",
            "\n",
            "    SET 2 TEA TOWELS I LOVE LONDON    SPACEBOY BABY GIFT SET  ...  \\\n",
            "0                             False                    False  ...   \n",
            "1                             False                    False  ...   \n",
            "2                             False                    False  ...   \n",
            "3                             False                    False  ...   \n",
            "4                             False                    False  ...   \n",
            "\n",
            "   ZINC STAR T-LIGHT HOLDER   ZINC SWEETHEART SOAP DISH  \\\n",
            "0                      False                      False   \n",
            "1                      False                      False   \n",
            "2                      False                      False   \n",
            "3                      False                      False   \n",
            "4                      False                      False   \n",
            "\n",
            "   ZINC SWEETHEART WIRE LETTER RACK  ZINC T-LIGHT HOLDER STAR LARGE  \\\n",
            "0                             False                           False   \n",
            "1                             False                           False   \n",
            "2                             False                           False   \n",
            "3                             False                           False   \n",
            "4                             False                           False   \n",
            "\n",
            "   ZINC T-LIGHT HOLDER STARS LARGE  ZINC T-LIGHT HOLDER STARS SMALL  \\\n",
            "0                            False                            False   \n",
            "1                            False                            False   \n",
            "2                            False                            False   \n",
            "3                            False                            False   \n",
            "4                            False                            False   \n",
            "\n",
            "   ZINC TOP  2 DOOR WOODEN SHELF   ZINC WILLIE WINKIE  CANDLE STICK  \\\n",
            "0                           False                             False   \n",
            "1                           False                             False   \n",
            "2                           False                             False   \n",
            "3                           False                             False   \n",
            "4                           False                             False   \n",
            "\n",
            "   ZINC WIRE KITCHEN ORGANISER  ZINC WIRE SWEETHEART LETTER TRAY  \n",
            "0                        False                             False  \n",
            "1                        False                             False  \n",
            "2                        False                             False  \n",
            "3                        False                             False  \n",
            "4                        False                             False  \n",
            "\n",
            "[5 rows x 3896 columns]\n"
          ]
        }
      ],
      "source": [
        "\n",
        "print(\"Contoh encoding:\")\n",
        "print(df_encoded.head())\n"
      ]
    },
    {
      "cell_type": "code",
      "execution_count": 9,
      "id": "10309a80",
      "metadata": {},
      "outputs": [],
      "source": [
        "# Simpan file ke dalam folder processed\n",
        "df.to_csv('../data/processed/dataset_final.csv', index=False)\n",
        "df.to_excel('../data/processed/dataset_final.xlsx', index=False)\n"
      ]
    },
    {
      "cell_type": "code",
      "execution_count": null,
      "id": "7e037479",
      "metadata": {},
      "outputs": [],
      "source": []
    }
  ],
  "metadata": {
    "kernelspec": {
      "display_name": "Python 3",
      "language": "python",
      "name": "python3"
    },
    "language_info": {
      "codemirror_mode": {
        "name": "ipython",
        "version": 3
      },
      "file_extension": ".py",
      "mimetype": "text/x-python",
      "name": "python",
      "nbconvert_exporter": "python",
      "pygments_lexer": "ipython3",
      "version": "3.13.4"
    }
  },
  "nbformat": 4,
  "nbformat_minor": 5
}
